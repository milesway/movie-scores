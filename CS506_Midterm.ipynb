{
 "cells": [
  {
   "cell_type": "markdown",
   "metadata": {},
   "source": [
    "# Midterm"
   ]
  },
  {
   "cell_type": "markdown",
   "metadata": {},
   "source": [
    "## Starter Code\n",
    "packages: cycler joblib kiwisolver matplotlib numpy pandas Pillow pyparsing python-dateutil pytz\n",
    "scikit-learn\n",
    "scipy\n",
    "seaborn\n",
    "six\n",
    "sklearn\n",
    "threadpoolctl"
   ]
  },
  {
   "cell_type": "code",
   "execution_count": 1,
   "metadata": {},
   "outputs": [],
   "source": [
    "# Import Packages\n",
    "\n",
    "import re\n",
    "import pandas as pd\n",
    "import matplotlib.pyplot as plt\n",
    "import seaborn as sns\n",
    "from sklearn.neighbors import KNeighborsClassifier\n",
    "from sklearn.model_selection import train_test_split\n",
    "from sklearn.metrics import mean_squared_error, confusion_matrix\n",
    "from nltk.corpus import stopwords\n",
    "from nltk.stem import WordNetLemmatizer\n",
    "from sklearn.feature_extraction.text import CountVectorizer\n",
    "from sklearn.ensemble import RandomForestClassifier\n",
    "from textblob import TextBlob\n",
    "from sklearn.feature_extraction.text import TfidfTransformer\n",
    "from sklearn.naive_bayes import MultinomialNB\n",
    "\n",
    "#run jupyter notebook\n",
    "#jupyter notebook --NotebookApp.iopub_data_rate_limit=1e10"
   ]
  },
  {
   "cell_type": "code",
   "execution_count": 46,
   "metadata": {},
   "outputs": [
    {
     "name": "stdout",
     "output_type": "stream",
     "text": [
      "train.csv shape is  (1697533, 9)\n",
      "test.csv shape is  (300000, 2)\n",
      "\n",
      "   Id   ProductId          UserId  HelpfulnessNumerator  \\\n",
      "0   0  0005019281   ADZPIG9QOCDG5                     0   \n",
      "1   1  0005019281  A35947ZP82G7JH                     0   \n",
      "2   2  0005019281  A3UORV8A9D5L2E                     0   \n",
      "3   3  0005019281  A1VKW06X1O2X7V                     0   \n",
      "4   4  0005019281  A3R27T4HADWFFJ                     0   \n",
      "\n",
      "   HelpfulnessDenominator  Score        Time  \\\n",
      "0                       0    4.0  1203984000   \n",
      "1                       0    3.0  1388361600   \n",
      "2                       0    3.0  1388361600   \n",
      "3                       0    5.0  1202860800   \n",
      "4                       0    4.0  1387670400   \n",
      "\n",
      "                                        Summary  \\\n",
      "0                     good version of a classic   \n",
      "1                        Good but not as moving   \n",
      "2         Winkler's Performance was ok at best!   \n",
      "3  It's an enjoyable twist on the classic story   \n",
      "4                              Best Scrooge yet   \n",
      "\n",
      "                                                Text  \n",
      "0  This is a charming version of the classic Dick...  \n",
      "1  It was good but not as emotionally moving as t...  \n",
      "2  Don't get me wrong, Winkler is a wonderful cha...  \n",
      "3  Henry Winkler is very good in this twist on th...  \n",
      "4  This is one of the best Scrooge movies out.  H...  \n",
      "\n",
      "   Id  Score\n",
      "0   5    NaN\n",
      "1  11    NaN\n",
      "2  17    NaN\n",
      "3  46    NaN\n",
      "4  47    NaN\n",
      "\n",
      "                 Id  HelpfulnessNumerator  HelpfulnessDenominator  \\\n",
      "count  1.697533e+06          1.697533e+06            1.697533e+06   \n",
      "mean   8.487660e+05          3.569048e+00            5.301422e+00   \n",
      "std    4.900357e+05          1.727883e+01            2.024445e+01   \n",
      "min    0.000000e+00          0.000000e+00            0.000000e+00   \n",
      "25%    4.243830e+05          0.000000e+00            0.000000e+00   \n",
      "50%    8.487660e+05          1.000000e+00            1.000000e+00   \n",
      "75%    1.273149e+06          3.000000e+00            5.000000e+00   \n",
      "max    1.697532e+06          6.084000e+03            6.510000e+03   \n",
      "\n",
      "              Score          Time  \n",
      "count  1.397533e+06  1.697533e+06  \n",
      "mean   4.111468e+00  1.262422e+09  \n",
      "std    1.196808e+00  1.289277e+08  \n",
      "min    1.000000e+00  8.793792e+08  \n",
      "25%    4.000000e+00  1.164413e+09  \n",
      "50%    5.000000e+00  1.307491e+09  \n",
      "75%    5.000000e+00  1.373242e+09  \n",
      "max    5.000000e+00  1.406074e+09  \n"
     ]
    },
    {
     "data": {
      "image/png": "[encoded data removed]",
      "text/plain": [
       "<Figure size 432x288 with 1 Axes>"
      ]
     },
     "metadata": {
      "needs_background": "light"
     },
     "output_type": "display_data"
    }
   ],
   "source": [
    "#initial-exploration.py\n",
    "\n",
    "trainingSet = pd.read_csv(\"train.csv\")\n",
    "testingSet = pd.read_csv(\"test.csv\")\n",
    "\n",
    "print(\"train.csv shape is \", trainingSet.shape)\n",
    "print(\"test.csv shape is \", testingSet.shape)\n",
    "\n",
    "print()\n",
    "\n",
    "print(trainingSet.head())\n",
    "print()\n",
    "print(testingSet.head())\n",
    "\n",
    "print()\n",
    "\n",
    "print(trainingSet.describe())\n",
    "\n",
    "trainingSet['Score'].value_counts().plot(kind='bar', legend=True, alpha=.5)\n",
    "plt.show()"
   ]
  },
  {
   "cell_type": "code",
   "execution_count": 47,
   "metadata": {},
   "outputs": [
    {
     "name": "stdout",
     "output_type": "stream",
     "text": [
      "Index(['Id', 'ProductId', 'UserId', 'HelpfulnessNumerator',\n",
      "       'HelpfulnessDenominator', 'Score_x', 'Time', 'Summary', 'Text',\n",
      "       'Score_y'],\n",
      "      dtype='object')\n",
      "Index(['Id', 'ProductId', 'UserId', 'HelpfulnessNumerator',\n",
      "       'HelpfulnessDenominator', 'Time', 'Summary', 'Text', 'Score'],\n",
      "      dtype='object')\n",
      "(1697533, 9)\n",
      "(1397533, 9)\n"
     ]
    }
   ],
   "source": [
    "#generate-Xtrain-Xsubmission.py\n",
    "\n",
    "X_test = pd.merge(trainingSet, testingSet, left_on='Id', right_on='Id')\n",
    "print(X_test.columns)\n",
    "\n",
    "X_test = X_test.drop(columns=['Score_x'])\n",
    "X_test = X_test.rename(columns={'Score_y': 'Score'})\n",
    "\n",
    "print(X_test.columns)\n",
    "X_test.to_csv(\"X_submission.csv\", index=False)\n",
    "\n",
    "X_train = trainingSet[trainingSet['Score'].notnull()]\n",
    "\n",
    "print(trainingSet.shape)\n",
    "print(X_train.shape)\n",
    "X_train.to_csv(\"X_train.csv\", index=False)"
   ]
  },
  {
   "cell_type": "markdown",
   "metadata": {},
   "source": [
    "## 1. Constant Score Prediction\n",
    "to the file sumbission_constant.csv"
   ]
  },
  {
   "cell_type": "code",
   "execution_count": 14,
   "metadata": {},
   "outputs": [
    {
     "name": "stdout",
     "output_type": "stream",
     "text": [
      "   Id  Score\n",
      "0   5    4.0\n",
      "1  11    4.0\n",
      "2  17    4.0\n",
      "3  46    4.0\n",
      "4  47    4.0\n"
     ]
    }
   ],
   "source": [
    "#predict-constant.py\n",
    "\n",
    "prediction = pd.read_csv(\"X_submission.csv\")\n",
    "prediction['Score'] = 4.0\n",
    "\n",
    "submission = prediction[['Id', 'Score']]\n",
    "print(submission.head())\n",
    "submission.to_csv(\"submission_constant.csv\", index=False)"
   ]
  },
  {
   "cell_type": "markdown",
   "metadata": {},
   "source": [
    "## 2. Score Predition using KNN 3 clusters\n",
    "to the file submission_knn.csv"
   ]
  },
  {
   "cell_type": "code",
   "execution_count": 15,
   "metadata": {},
   "outputs": [
    {
     "name": "stdout",
     "output_type": "stream",
     "text": [
      "RMSE on testing set =  2.50974572390264\n"
     ]
    },
    {
     "data": {
      "image/png": "[encoded data removed]",
      "text/plain": [
       "<Figure size 432x288 with 2 Axes>"
      ]
     },
     "metadata": {
      "needs_background": "light"
     },
     "output_type": "display_data"
    }
   ],
   "source": [
    "#predict-knn.py\n",
    "\n",
    "# Load files into DataFrames\n",
    "X_train = pd.read_csv(\"X_train.csv\")\n",
    "X_submission = pd.read_csv(\"X_submission.csv\")\n",
    "\n",
    "# Split training set into training and testing set\n",
    "X_train, X_test, Y_train, Y_test = train_test_split(\n",
    "        X_train.drop(['Score'], axis=1),\n",
    "        X_train['Score'],\n",
    "        test_size=1/4.0,\n",
    "        random_state=0\n",
    "    )\n",
    "\n",
    "# Process the DataFrames\n",
    "# This is where you can do more feature extraction\n",
    "X_train_processed = X_train.drop(columns=['Id', 'ProductId', 'UserId', 'Text', 'Summary'])\n",
    "X_test_processed = X_test.drop(columns=['Id', 'ProductId', 'UserId', 'Text', 'Summary'])\n",
    "X_submission_processed = X_submission.drop(columns=['Id', 'ProductId', 'UserId', 'Text', 'Summary', 'Score'])\n",
    "\n",
    "# Learn the model\n",
    "model = KNeighborsClassifier(n_neighbors=3).fit(X_train_processed, Y_train)\n",
    "\n",
    "# Predict the score using the model\n",
    "Y_test_predictions = model.predict(X_test_processed)\n",
    "X_submission['Score'] = model.predict(X_submission_processed)\n",
    "\n",
    "# Evaluate your model on the testing set\n",
    "print(\"RMSE on testing set = \", mean_squared_error(Y_test, Y_test_predictions))\n",
    "\n",
    "# Plot a confusion matrix\n",
    "cm = confusion_matrix(Y_test, Y_test_predictions, normalize='true')\n",
    "sns.heatmap(cm, annot=True)\n",
    "plt.title('Confusion matrix of the classifier')\n",
    "plt.xlabel('Predicted')\n",
    "plt.ylabel('True')\n",
    "plt.show()\n",
    "\n",
    "# Create the submission file\n",
    "submission = X_submission[['Id', 'Score']]\n",
    "submission.to_csv(\"submission_knn.csv\", index=False)"
   ]
  },
  {
   "cell_type": "markdown",
   "metadata": {},
   "source": [
    "## 3. Score Prediction using Random Forest\n",
    "to the file submission_rf.csv"
   ]
  },
  {
   "cell_type": "code",
   "execution_count": null,
   "metadata": {},
   "outputs": [],
   "source": [
    "#load data\n",
    "trainingSet = pd.read_csv(\"train.csv\")\n",
    "testingSet = pd.read_csv(\"test.csv\")"
   ]
  },
  {
   "cell_type": "code",
   "execution_count": null,
   "metadata": {},
   "outputs": [],
   "source": [
    "#add more features\n",
    "\n",
    "#1. add average user score and average product score\n",
    "#1.1 user average score\n",
    "train_user = pd.DataFrame(trainingSet[['UserId','Score']])\n",
    "train_user_av = train_user.groupby(['UserId']).mean().round(0)\n",
    "train_user_avscore = train_user_av.rename(columns = {\"Score\":\"User_average\"})\n",
    "\n",
    "result = pd.merge(trainingSet, train_user_avscore, how=\"left\",on=\"UserId\")\n",
    "\n",
    "#1.2 product average score\n",
    "train_product = pd.DataFrame(trainingSet[['ProductId','Score']])\n",
    "train_product_av = train_product.groupby(['ProductId']).mean().round(0)\n",
    "train_product_avscore = train_product_av.rename(columns = {\"Score\":\"Product_average\"})\n",
    "\n",
    "trainingSet = pd.merge(result, X_train_product_avscore, how=\"left\",on=\"ProductId\")\n",
    "print(\"finish user average and product average\")\n",
    "\n",
    "#2. add lemma review\n",
    "#clean words with stopwords and delete all not words and tokenize\n",
    "#lemmatization\n",
    "STOPWORDS = stopwords.words('english')\n",
    "lemmatizer = WordNetLemmatizer()\n",
    "\n",
    "def lemmatization(text):\n",
    "    textblob = TextBlob(text)\n",
    "    textblob.correct()\n",
    "    text = re.sub(r'[^a-zA-Z]', ' ', str(textblob))\n",
    "    words = text.lower().split()\n",
    "    words = [lemmatizer.lemmatize(w) for w in words if w not in STOPWORDS]\n",
    "    return ' '.join(words)\n",
    "\n",
    "trainingSet['lemma_review'] = traningSet.Text.apply(lemmatization)\n",
    "trainingSet['lemma_sum'] = traningSet.Summary.apply(lemmatization)\n",
    "print(\"finish lemma review and summary on training set\")\n",
    "\n",
    "#3. add polarity\n",
    "#do sentiment test\n",
    "def sentiment(text):\n",
    "    textblob = TextBlob(text)\n",
    "    return textblob.polarity    \n",
    "\n",
    "trainingSet['Polarity_review'] = trainingSet.lemma_review.apply(sentiment)\n",
    "trainingSet['Polarity_sum'] = trainingSet.lemma_sum.apply(sentiment)\n",
    "print(\"finish polarity of review and summary on training set\")\n"
   ]
  },
  {
   "cell_type": "code",
   "execution_count": null,
   "metadata": {},
   "outputs": [],
   "source": [
    "#create x_text and x_train\n",
    "X_test = pd.merge(trainingSet, testingSet, left_on='Id', right_on='Id')\n",
    "\n",
    "X_test = X_test.drop(columns=['Score_x'])\n",
    "X_test = X_test.rename(columns={'Score_y': 'Score'})\n",
    "\n",
    "X_test.to_csv(\"X_submission.csv\", index=False)\n",
    "\n",
    "X_train = trainingSet[trainingSet['Score'].notnull()]\n",
    "\n",
    "X_train.to_csv(\"X_train.csv\", index=False)"
   ]
  },
  {
   "cell_type": "code",
   "execution_count": null,
   "metadata": {},
   "outputs": [],
   "source": [
    "# Load files into DataFrames\n",
    "X_train = pd.read_csv(\"X_train.csv\")\n",
    "X_submission = pd.read_csv(\"X_submission.csv\")\n",
    "\n",
    "# Split training set into training and testing set\n",
    "X_train, X_test, Y_train, Y_test = train_test_split(\n",
    "        X_train.drop(['Score'], axis=1),\n",
    "        X_train['Score'],\n",
    "        test_size=1/4.0,\n",
    "        random_state=0\n",
    "    )\n",
    "\n",
    "#4. vecotorize lemma review and summary\n",
    "#vectorize train set on review\n",
    "vectorizer_review = CountVectorizer(max_features = 5000) \n",
    "vector_review = vectorizer_review.fit_transform(X_train.lemma_review)\n",
    "\n",
    "#from occurance to frequencies\n",
    "tfidf_transformer_review = TfidfTransformer()\n",
    "train_tfidf_review = tfidf_transformer_review.fit_transform(vector_review)\n",
    "\n",
    "#vectorize test set on test review\n",
    "test_vector_review = vectorizer_review.fit(X_test.lemma_review)\n",
    "\n",
    "#from occurance to frequencies\n",
    "test_tfidf_review = tfidf_transformer_review.fit(test_vector_review)\n",
    "\n",
    "#vectorize submission set on test review\n",
    "sub_vector_review = vectorizer_review.fit(X_submission.lemma_review)\n",
    "\n",
    "#from occurance to frequencies\n",
    "sub_tfidf_review = tfidf_transformer_review.fit(sub_vector_review)\n",
    "\n",
    "print(\"finish tfidf on review and summary of training set\")\n",
    "\n",
    "# Process the DataFrames\n",
    "# This is where you can do more feature extraction\n",
    "X_train_processed = X_train.drop(columns=['Id', 'ProductId', 'UserId', 'Text', 'Summary', 'lemma_review','lemma_sum'])\n",
    "X_test_processed = X_test.drop(columns=['Id', 'ProductId', 'UserId', 'Text', 'Summary','lemma_review','lemma_sum'])\n",
    "X_submission_processed = X_submission.drop(columns=['Id', 'ProductId', 'UserId', 'Text', 'Summary', 'Score','lemma_review','lemma_sum'])\n",
    "\n",
    "# Learn the review model\n",
    "#create random forest model\n",
    "forest_review = RandomForestClassifier(n_estimators = 100)\n",
    "model_review = forest_review.fit(train_tfidf_review, Y_train)\n",
    "print(\"finish review fit\")\n",
    "\n",
    "# Learn the model\n",
    "#create random forest model\n",
    "forest = RandomForestClassifier(n_estimators = 100)\n",
    "model = forest.fit(X_train_processed, Y_train)\n",
    "print(\"finish fit\")\n",
    "\n",
    "# Predict based on review\n",
    "Y_test_review_pre = model_review.predict(test_tfidf_review)\n",
    "X_submission['Score1'] = model_review.predict(sub_tfidf_review)\n",
    "\n",
    "# Predict the score using the model\n",
    "Y_test_regular_pre = model.predict(X_test_processed)\n",
    "X_submission['Score2'] = model.predict(X_submission_processed)\n",
    "\n",
    "Y_av = (Y_test_review_pre * 0.5 + Y_test_regular_pre * 0.5).round(0)\n",
    "X_submission['Score']=(X_submission['Score1']*0.5+X_submission['Score2']*0.5).round(0)\n",
    "\n",
    "# Evaluate your model on the testing set\n",
    "print(\"RMSE on testing set: review predict = \", mean_squared_error(Y_test, Y_test_review_pre))\n",
    "print(\"RMSE on testing set: regular predict = \", mean_squared_error(Y_test, Y_test_regular_pre))\n",
    "print(\"RMSE on testing set: regular predict = \", mean_squared_error(Y_test, Y_av))\n",
    "\n",
    "# Plot a confusion matrix\n",
    "cm1 = confusion_matrix(Y_test, Y_test_review_pre, normalize='true')\n",
    "print(cm1)\n",
    "cm2 = confusion_matrix(Y_test, Y_test_regular_pre, normalize='true')\n",
    "print(cm2)\n",
    "#sns.heatmap(cm, annot=True)\n",
    "#plt.title('Confusion matrix of the classifier')\n",
    "#plt.xlabel('Predicted')\n",
    "#plt.ylabel('True')\n",
    "#plt.show()\n",
    "\n",
    "# Create the submission file\n",
    "#submission = X_submission[['Id', 'Score']]\n",
    "#submission.to_csv(\"submission.csv\", index=False)"
   ]
  },
  {
   "cell_type": "code",
   "execution_count": 17,
   "metadata": {},
   "outputs": [
    {
     "name": "stdout",
     "output_type": "stream",
     "text": [
      "(786111, 1000)\n",
      "finish fit\n"
     ]
    }
   ],
   "source": [
    "#create naive bayes model\n",
    "#clf = MultinomialNB().fit(X_train['tfidf'], Y_train)\n",
    "#print(\"finish fit\")"
   ]
  },
  {
   "cell_type": "code",
   "execution_count": null,
   "metadata": {},
   "outputs": [],
   "source": [
    "#use naive bayes modal to predict\n",
    "#X_submission['NB_Score'] = clf.predict(submission_data_features)"
   ]
  }
 ],
 "metadata": {
  "kernelspec": {
   "display_name": "Python 3",
   "language": "python",
   "name": "python3"
  },
  "language_info": {
   "codemirror_mode": {
    "name": "ipython",
    "version": 3
   },
   "file_extension": ".py",
   "mimetype": "text/x-python",
   "name": "python",
   "nbconvert_exporter": "python",
   "pygments_lexer": "ipython3",
   "version": "3.7.3"
  }
 },
 "nbformat": 4,
 "nbformat_minor": 4
}
